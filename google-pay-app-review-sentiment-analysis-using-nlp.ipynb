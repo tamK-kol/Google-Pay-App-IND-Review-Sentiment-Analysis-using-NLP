{
 "cells": [
  {
   "cell_type": "code",
   "execution_count": 1,
   "id": "bc6b8432",
   "metadata": {
    "_cell_guid": "b1076dfc-b9ad-4769-8c92-a6c4dae69d19",
    "_uuid": "8f2839f25d086af736a60e9eeb907d3b93b6e0e5",
    "execution": {
     "iopub.execute_input": "2024-01-03T19:57:28.925758Z",
     "iopub.status.busy": "2024-01-03T19:57:28.925359Z",
     "iopub.status.idle": "2024-01-03T19:57:30.679834Z",
     "shell.execute_reply": "2024-01-03T19:57:30.678997Z"
    },
    "papermill": {
     "duration": 1.773211,
     "end_time": "2024-01-03T19:57:30.682840",
     "exception": false,
     "start_time": "2024-01-03T19:57:28.909629",
     "status": "completed"
    },
    "tags": []
   },
   "outputs": [],
   "source": [
    "import pandas as pd\n",
    "import numpy as np\n",
    "import matplotlib.pyplot as plt\n",
    "import seaborn as sns\n",
    "%matplotlib inline"
   ]
  },
  {
   "cell_type": "code",
   "execution_count": 2,
   "id": "354f512d",
   "metadata": {
    "execution": {
     "iopub.execute_input": "2024-01-03T19:57:30.712332Z",
     "iopub.status.busy": "2024-01-03T19:57:30.711352Z",
     "iopub.status.idle": "2024-01-03T19:57:31.303025Z",
     "shell.execute_reply": "2024-01-03T19:57:31.301718Z"
    },
    "papermill": {
     "duration": 0.610129,
     "end_time": "2024-01-03T19:57:31.306527",
     "exception": false,
     "start_time": "2024-01-03T19:57:30.696398",
     "status": "completed"
    },
    "tags": []
   },
   "outputs": [],
   "source": [
    "#Read the data\n",
    "data = pd.read_csv(\"/kaggle/input/upi-payment-apps-review-google-play-store/GooglePayIndia.csv\")"
   ]
  },
  {
   "cell_type": "code",
   "execution_count": 3,
   "id": "67fe27cf",
   "metadata": {
    "execution": {
     "iopub.execute_input": "2024-01-03T19:57:31.336088Z",
     "iopub.status.busy": "2024-01-03T19:57:31.335671Z",
     "iopub.status.idle": "2024-01-03T19:57:31.363977Z",
     "shell.execute_reply": "2024-01-03T19:57:31.362849Z"
    },
    "papermill": {
     "duration": 0.047634,
     "end_time": "2024-01-03T19:57:31.368380",
     "exception": false,
     "start_time": "2024-01-03T19:57:31.320746",
     "status": "completed"
    },
    "tags": []
   },
   "outputs": [
    {
     "data": {
      "text/html": [
       "<div>\n",
       "<style scoped>\n",
       "    .dataframe tbody tr th:only-of-type {\n",
       "        vertical-align: middle;\n",
       "    }\n",
       "\n",
       "    .dataframe tbody tr th {\n",
       "        vertical-align: top;\n",
       "    }\n",
       "\n",
       "    .dataframe thead th {\n",
       "        text-align: right;\n",
       "    }\n",
       "</style>\n",
       "<table border=\"1\" class=\"dataframe\">\n",
       "  <thead>\n",
       "    <tr style=\"text-align: right;\">\n",
       "      <th></th>\n",
       "      <th>Unnamed: 0</th>\n",
       "      <th>reviewId</th>\n",
       "      <th>userName</th>\n",
       "      <th>userImage</th>\n",
       "      <th>content</th>\n",
       "      <th>score</th>\n",
       "      <th>thumbsUpCount</th>\n",
       "      <th>reviewCreatedVersion</th>\n",
       "      <th>at</th>\n",
       "      <th>replyContent</th>\n",
       "      <th>repliedAt</th>\n",
       "    </tr>\n",
       "  </thead>\n",
       "  <tbody>\n",
       "    <tr>\n",
       "      <th>0</th>\n",
       "      <td>0</td>\n",
       "      <td>gp:AOqpTOEdT_VactGi_J9Q2PEWY7J4XlD7BINhOj9xwOr...</td>\n",
       "      <td>Len Pagnam</td>\n",
       "      <td>https://play-lh.googleusercontent.com/a-/AOh14...</td>\n",
       "      <td>How do add a boarding pass? I see no passes tab.</td>\n",
       "      <td>1</td>\n",
       "      <td>0</td>\n",
       "      <td>2.137.401329300</td>\n",
       "      <td>2021-11-18 17:03:06</td>\n",
       "      <td>Hi Len. Could you try the steps in this guide ...</td>\n",
       "      <td>2021-11-18 17:27:11</td>\n",
       "    </tr>\n",
       "    <tr>\n",
       "      <th>1</th>\n",
       "      <td>1</td>\n",
       "      <td>gp:AOqpTOHltpCzXurPoFUgj-a3L-wApC93-fTvocbF9K7...</td>\n",
       "      <td>Benjamin Silva</td>\n",
       "      <td>https://play-lh.googleusercontent.com/a/AATXAJ...</td>\n",
       "      <td>Best</td>\n",
       "      <td>5</td>\n",
       "      <td>0</td>\n",
       "      <td>2.134.392709498</td>\n",
       "      <td>2021-11-18 16:43:34</td>\n",
       "      <td>NaN</td>\n",
       "      <td>NaN</td>\n",
       "    </tr>\n",
       "    <tr>\n",
       "      <th>2</th>\n",
       "      <td>2</td>\n",
       "      <td>gp:AOqpTOGTiyxy_FWSQe7eCONa7PsIP6v7cS-xWCL6jFF...</td>\n",
       "      <td>PARVESH MIAR</td>\n",
       "      <td>https://play-lh.googleusercontent.com/a-/AOh14...</td>\n",
       "      <td>All ok</td>\n",
       "      <td>5</td>\n",
       "      <td>0</td>\n",
       "      <td>2.138.406141160</td>\n",
       "      <td>2021-11-18 16:12:42</td>\n",
       "      <td>NaN</td>\n",
       "      <td>NaN</td>\n",
       "    </tr>\n",
       "    <tr>\n",
       "      <th>3</th>\n",
       "      <td>3</td>\n",
       "      <td>gp:AOqpTOHllyGnmLGZqPUGokxYncq9kOKoY3Zz_4ZF6b0...</td>\n",
       "      <td>Mikko L.</td>\n",
       "      <td>https://play-lh.googleusercontent.com/a-/AOh14...</td>\n",
       "      <td>Rasy to use really... But there never, ever sh...</td>\n",
       "      <td>3</td>\n",
       "      <td>0</td>\n",
       "      <td>2.138.406141160</td>\n",
       "      <td>2021-11-18 16:06:35</td>\n",
       "      <td>NaN</td>\n",
       "      <td>NaN</td>\n",
       "    </tr>\n",
       "    <tr>\n",
       "      <th>4</th>\n",
       "      <td>4</td>\n",
       "      <td>gp:AOqpTOHjnJ6gAF4NzruhLDGVszAaTKSerVeKt-UtJfM...</td>\n",
       "      <td>A Google user</td>\n",
       "      <td>https://play-lh.googleusercontent.com/EGemoI2N...</td>\n",
       "      <td>I still do not understand why your restricting...</td>\n",
       "      <td>3</td>\n",
       "      <td>251</td>\n",
       "      <td>2.134.392709498</td>\n",
       "      <td>2021-11-18 15:48:08</td>\n",
       "      <td>NaN</td>\n",
       "      <td>NaN</td>\n",
       "    </tr>\n",
       "  </tbody>\n",
       "</table>\n",
       "</div>"
      ],
      "text/plain": [
       "   Unnamed: 0                                           reviewId  \\\n",
       "0           0  gp:AOqpTOEdT_VactGi_J9Q2PEWY7J4XlD7BINhOj9xwOr...   \n",
       "1           1  gp:AOqpTOHltpCzXurPoFUgj-a3L-wApC93-fTvocbF9K7...   \n",
       "2           2  gp:AOqpTOGTiyxy_FWSQe7eCONa7PsIP6v7cS-xWCL6jFF...   \n",
       "3           3  gp:AOqpTOHllyGnmLGZqPUGokxYncq9kOKoY3Zz_4ZF6b0...   \n",
       "4           4  gp:AOqpTOHjnJ6gAF4NzruhLDGVszAaTKSerVeKt-UtJfM...   \n",
       "\n",
       "         userName                                          userImage  \\\n",
       "0      Len Pagnam  https://play-lh.googleusercontent.com/a-/AOh14...   \n",
       "1  Benjamin Silva  https://play-lh.googleusercontent.com/a/AATXAJ...   \n",
       "2    PARVESH MIAR  https://play-lh.googleusercontent.com/a-/AOh14...   \n",
       "3        Mikko L.  https://play-lh.googleusercontent.com/a-/AOh14...   \n",
       "4   A Google user  https://play-lh.googleusercontent.com/EGemoI2N...   \n",
       "\n",
       "                                             content  score  thumbsUpCount  \\\n",
       "0   How do add a boarding pass? I see no passes tab.      1              0   \n",
       "1                                               Best      5              0   \n",
       "2                                             All ok      5              0   \n",
       "3  Rasy to use really... But there never, ever sh...      3              0   \n",
       "4  I still do not understand why your restricting...      3            251   \n",
       "\n",
       "  reviewCreatedVersion                   at  \\\n",
       "0      2.137.401329300  2021-11-18 17:03:06   \n",
       "1      2.134.392709498  2021-11-18 16:43:34   \n",
       "2      2.138.406141160  2021-11-18 16:12:42   \n",
       "3      2.138.406141160  2021-11-18 16:06:35   \n",
       "4      2.134.392709498  2021-11-18 15:48:08   \n",
       "\n",
       "                                        replyContent            repliedAt  \n",
       "0  Hi Len. Could you try the steps in this guide ...  2021-11-18 17:27:11  \n",
       "1                                                NaN                  NaN  \n",
       "2                                                NaN                  NaN  \n",
       "3                                                NaN                  NaN  \n",
       "4                                                NaN                  NaN  "
      ]
     },
     "execution_count": 3,
     "metadata": {},
     "output_type": "execute_result"
    }
   ],
   "source": [
    "data.head()"
   ]
  },
  {
   "cell_type": "code",
   "execution_count": 4,
   "id": "a5157a98",
   "metadata": {
    "execution": {
     "iopub.execute_input": "2024-01-03T19:57:31.398794Z",
     "iopub.status.busy": "2024-01-03T19:57:31.398034Z",
     "iopub.status.idle": "2024-01-03T19:57:31.529393Z",
     "shell.execute_reply": "2024-01-03T19:57:31.528578Z"
    },
    "papermill": {
     "duration": 0.149676,
     "end_time": "2024-01-03T19:57:31.532205",
     "exception": false,
     "start_time": "2024-01-03T19:57:31.382529",
     "status": "completed"
    },
    "tags": []
   },
   "outputs": [
    {
     "name": "stdout",
     "output_type": "stream",
     "text": [
      "<class 'pandas.core.frame.DataFrame'>\n",
      "RangeIndex: 34228 entries, 0 to 34227\n",
      "Data columns (total 11 columns):\n",
      " #   Column                Non-Null Count  Dtype \n",
      "---  ------                --------------  ----- \n",
      " 0   Unnamed: 0            34228 non-null  int64 \n",
      " 1   reviewId              34228 non-null  object\n",
      " 2   userName              34227 non-null  object\n",
      " 3   userImage             34228 non-null  object\n",
      " 4   content               34219 non-null  object\n",
      " 5   score                 34228 non-null  int64 \n",
      " 6   thumbsUpCount         34228 non-null  int64 \n",
      " 7   reviewCreatedVersion  29987 non-null  object\n",
      " 8   at                    34228 non-null  object\n",
      " 9   replyContent          6112 non-null   object\n",
      " 10  repliedAt             6112 non-null   object\n",
      "dtypes: int64(3), object(8)\n",
      "memory usage: 2.9+ MB\n"
     ]
    }
   ],
   "source": [
    "data.info()"
   ]
  },
  {
   "cell_type": "code",
   "execution_count": 5,
   "id": "25d75b5d",
   "metadata": {
    "execution": {
     "iopub.execute_input": "2024-01-03T19:57:31.564137Z",
     "iopub.status.busy": "2024-01-03T19:57:31.563435Z",
     "iopub.status.idle": "2024-01-03T19:57:31.589875Z",
     "shell.execute_reply": "2024-01-03T19:57:31.588783Z"
    },
    "papermill": {
     "duration": 0.045962,
     "end_time": "2024-01-03T19:57:31.592955",
     "exception": false,
     "start_time": "2024-01-03T19:57:31.546993",
     "status": "completed"
    },
    "tags": []
   },
   "outputs": [
    {
     "data": {
      "text/html": [
       "<div>\n",
       "<style scoped>\n",
       "    .dataframe tbody tr th:only-of-type {\n",
       "        vertical-align: middle;\n",
       "    }\n",
       "\n",
       "    .dataframe tbody tr th {\n",
       "        vertical-align: top;\n",
       "    }\n",
       "\n",
       "    .dataframe thead th {\n",
       "        text-align: right;\n",
       "    }\n",
       "</style>\n",
       "<table border=\"1\" class=\"dataframe\">\n",
       "  <thead>\n",
       "    <tr style=\"text-align: right;\">\n",
       "      <th></th>\n",
       "      <th>Unnamed: 0</th>\n",
       "      <th>score</th>\n",
       "      <th>thumbsUpCount</th>\n",
       "    </tr>\n",
       "  </thead>\n",
       "  <tbody>\n",
       "    <tr>\n",
       "      <th>count</th>\n",
       "      <td>34228.000000</td>\n",
       "      <td>34228.000000</td>\n",
       "      <td>34228.000000</td>\n",
       "    </tr>\n",
       "    <tr>\n",
       "      <th>mean</th>\n",
       "      <td>17113.500000</td>\n",
       "      <td>3.651689</td>\n",
       "      <td>3.537718</td>\n",
       "    </tr>\n",
       "    <tr>\n",
       "      <th>std</th>\n",
       "      <td>9880.916843</td>\n",
       "      <td>1.715733</td>\n",
       "      <td>29.213717</td>\n",
       "    </tr>\n",
       "    <tr>\n",
       "      <th>min</th>\n",
       "      <td>0.000000</td>\n",
       "      <td>1.000000</td>\n",
       "      <td>0.000000</td>\n",
       "    </tr>\n",
       "    <tr>\n",
       "      <th>25%</th>\n",
       "      <td>8556.750000</td>\n",
       "      <td>1.000000</td>\n",
       "      <td>0.000000</td>\n",
       "    </tr>\n",
       "    <tr>\n",
       "      <th>50%</th>\n",
       "      <td>17113.500000</td>\n",
       "      <td>5.000000</td>\n",
       "      <td>0.000000</td>\n",
       "    </tr>\n",
       "    <tr>\n",
       "      <th>75%</th>\n",
       "      <td>25670.250000</td>\n",
       "      <td>5.000000</td>\n",
       "      <td>1.000000</td>\n",
       "    </tr>\n",
       "    <tr>\n",
       "      <th>max</th>\n",
       "      <td>34227.000000</td>\n",
       "      <td>5.000000</td>\n",
       "      <td>1921.000000</td>\n",
       "    </tr>\n",
       "  </tbody>\n",
       "</table>\n",
       "</div>"
      ],
      "text/plain": [
       "         Unnamed: 0         score  thumbsUpCount\n",
       "count  34228.000000  34228.000000   34228.000000\n",
       "mean   17113.500000      3.651689       3.537718\n",
       "std     9880.916843      1.715733      29.213717\n",
       "min        0.000000      1.000000       0.000000\n",
       "25%     8556.750000      1.000000       0.000000\n",
       "50%    17113.500000      5.000000       0.000000\n",
       "75%    25670.250000      5.000000       1.000000\n",
       "max    34227.000000      5.000000    1921.000000"
      ]
     },
     "execution_count": 5,
     "metadata": {},
     "output_type": "execute_result"
    }
   ],
   "source": [
    "data.describe()"
   ]
  },
  {
   "cell_type": "code",
   "execution_count": 6,
   "id": "25678eee",
   "metadata": {
    "execution": {
     "iopub.execute_input": "2024-01-03T19:57:31.624109Z",
     "iopub.status.busy": "2024-01-03T19:57:31.623383Z",
     "iopub.status.idle": "2024-01-03T19:57:31.637644Z",
     "shell.execute_reply": "2024-01-03T19:57:31.636112Z"
    },
    "papermill": {
     "duration": 0.033367,
     "end_time": "2024-01-03T19:57:31.640560",
     "exception": false,
     "start_time": "2024-01-03T19:57:31.607193",
     "status": "completed"
    },
    "tags": []
   },
   "outputs": [],
   "source": [
    "data=data.drop(['replyContent','repliedAt'],axis=1)"
   ]
  },
  {
   "cell_type": "code",
   "execution_count": 7,
   "id": "85c0acb6",
   "metadata": {
    "execution": {
     "iopub.execute_input": "2024-01-03T19:57:31.670991Z",
     "iopub.status.busy": "2024-01-03T19:57:31.670571Z",
     "iopub.status.idle": "2024-01-03T19:57:32.761799Z",
     "shell.execute_reply": "2024-01-03T19:57:32.760327Z"
    },
    "papermill": {
     "duration": 1.110977,
     "end_time": "2024-01-03T19:57:32.765666",
     "exception": false,
     "start_time": "2024-01-03T19:57:31.654689",
     "status": "completed"
    },
    "tags": []
   },
   "outputs": [
    {
     "data": {
      "text/plain": [
       "<Axes: >"
      ]
     },
     "execution_count": 7,
     "metadata": {},
     "output_type": "execute_result"
    },
    {
     "data": {
      "image/png": "[encoded data removed]",
      "text/plain": [
       "<Figure size 640x480 with 2 Axes>"
      ]
     },
     "metadata": {},
     "output_type": "display_data"
    }
   ],
   "source": [
    "sns.heatmap(data.isnull())"
   ]
  },
  {
   "cell_type": "code",
   "execution_count": 8,
   "id": "33e7a5e6",
   "metadata": {
    "execution": {
     "iopub.execute_input": "2024-01-03T19:57:32.799333Z",
     "iopub.status.busy": "2024-01-03T19:57:32.798866Z",
     "iopub.status.idle": "2024-01-03T19:57:32.834633Z",
     "shell.execute_reply": "2024-01-03T19:57:32.833268Z"
    },
    "papermill": {
     "duration": 0.056416,
     "end_time": "2024-01-03T19:57:32.837579",
     "exception": false,
     "start_time": "2024-01-03T19:57:32.781163",
     "status": "completed"
    },
    "tags": []
   },
   "outputs": [],
   "source": [
    "data = data.dropna()"
   ]
  },
  {
   "cell_type": "code",
   "execution_count": 9,
   "id": "b14599ac",
   "metadata": {
    "execution": {
     "iopub.execute_input": "2024-01-03T19:57:32.869089Z",
     "iopub.status.busy": "2024-01-03T19:57:32.868435Z",
     "iopub.status.idle": "2024-01-03T19:57:32.896639Z",
     "shell.execute_reply": "2024-01-03T19:57:32.895601Z"
    },
    "papermill": {
     "duration": 0.04751,
     "end_time": "2024-01-03T19:57:32.899762",
     "exception": false,
     "start_time": "2024-01-03T19:57:32.852252",
     "status": "completed"
    },
    "tags": []
   },
   "outputs": [
    {
     "data": {
      "text/plain": [
       "Unnamed: 0              0\n",
       "reviewId                0\n",
       "userName                0\n",
       "userImage               0\n",
       "content                 0\n",
       "score                   0\n",
       "thumbsUpCount           0\n",
       "reviewCreatedVersion    0\n",
       "at                      0\n",
       "dtype: int64"
      ]
     },
     "execution_count": 9,
     "metadata": {},
     "output_type": "execute_result"
    }
   ],
   "source": [
    "data.isnull().sum()"
   ]
  },
  {
   "cell_type": "code",
   "execution_count": 10,
   "id": "ff1f6a24",
   "metadata": {
    "execution": {
     "iopub.execute_input": "2024-01-03T19:57:32.932584Z",
     "iopub.status.busy": "2024-01-03T19:57:32.932143Z",
     "iopub.status.idle": "2024-01-03T19:57:32.939859Z",
     "shell.execute_reply": "2024-01-03T19:57:32.938728Z"
    },
    "papermill": {
     "duration": 0.02709,
     "end_time": "2024-01-03T19:57:32.942282",
     "exception": false,
     "start_time": "2024-01-03T19:57:32.915192",
     "status": "completed"
    },
    "tags": []
   },
   "outputs": [
    {
     "data": {
      "text/plain": [
       "(29978, 9)"
      ]
     },
     "execution_count": 10,
     "metadata": {},
     "output_type": "execute_result"
    }
   ],
   "source": [
    "data.shape"
   ]
  },
  {
   "cell_type": "code",
   "execution_count": 11,
   "id": "58cc45db",
   "metadata": {
    "execution": {
     "iopub.execute_input": "2024-01-03T19:57:32.976662Z",
     "iopub.status.busy": "2024-01-03T19:57:32.976229Z",
     "iopub.status.idle": "2024-01-03T19:57:32.986340Z",
     "shell.execute_reply": "2024-01-03T19:57:32.985218Z"
    },
    "papermill": {
     "duration": 0.031169,
     "end_time": "2024-01-03T19:57:32.989568",
     "exception": false,
     "start_time": "2024-01-03T19:57:32.958399",
     "status": "completed"
    },
    "tags": []
   },
   "outputs": [],
   "source": [
    "data_new=data[(data.score==1) | (data.score==5)]"
   ]
  },
  {
   "cell_type": "code",
   "execution_count": 12,
   "id": "009b825d",
   "metadata": {
    "execution": {
     "iopub.execute_input": "2024-01-03T19:57:33.023286Z",
     "iopub.status.busy": "2024-01-03T19:57:33.022884Z",
     "iopub.status.idle": "2024-01-03T19:57:33.038392Z",
     "shell.execute_reply": "2024-01-03T19:57:33.037618Z"
    },
    "papermill": {
     "duration": 0.035555,
     "end_time": "2024-01-03T19:57:33.040979",
     "exception": false,
     "start_time": "2024-01-03T19:57:33.005424",
     "status": "completed"
    },
    "tags": []
   },
   "outputs": [
    {
     "data": {
      "text/html": [
       "<div>\n",
       "<style scoped>\n",
       "    .dataframe tbody tr th:only-of-type {\n",
       "        vertical-align: middle;\n",
       "    }\n",
       "\n",
       "    .dataframe tbody tr th {\n",
       "        vertical-align: top;\n",
       "    }\n",
       "\n",
       "    .dataframe thead th {\n",
       "        text-align: right;\n",
       "    }\n",
       "</style>\n",
       "<table border=\"1\" class=\"dataframe\">\n",
       "  <thead>\n",
       "    <tr style=\"text-align: right;\">\n",
       "      <th></th>\n",
       "      <th>Unnamed: 0</th>\n",
       "      <th>reviewId</th>\n",
       "      <th>userName</th>\n",
       "      <th>userImage</th>\n",
       "      <th>content</th>\n",
       "      <th>score</th>\n",
       "      <th>thumbsUpCount</th>\n",
       "      <th>reviewCreatedVersion</th>\n",
       "      <th>at</th>\n",
       "    </tr>\n",
       "  </thead>\n",
       "  <tbody>\n",
       "    <tr>\n",
       "      <th>0</th>\n",
       "      <td>0</td>\n",
       "      <td>gp:AOqpTOEdT_VactGi_J9Q2PEWY7J4XlD7BINhOj9xwOr...</td>\n",
       "      <td>Len Pagnam</td>\n",
       "      <td>https://play-lh.googleusercontent.com/a-/AOh14...</td>\n",
       "      <td>How do add a boarding pass? I see no passes tab.</td>\n",
       "      <td>1</td>\n",
       "      <td>0</td>\n",
       "      <td>2.137.401329300</td>\n",
       "      <td>2021-11-18 17:03:06</td>\n",
       "    </tr>\n",
       "    <tr>\n",
       "      <th>1</th>\n",
       "      <td>1</td>\n",
       "      <td>gp:AOqpTOHltpCzXurPoFUgj-a3L-wApC93-fTvocbF9K7...</td>\n",
       "      <td>Benjamin Silva</td>\n",
       "      <td>https://play-lh.googleusercontent.com/a/AATXAJ...</td>\n",
       "      <td>Best</td>\n",
       "      <td>5</td>\n",
       "      <td>0</td>\n",
       "      <td>2.134.392709498</td>\n",
       "      <td>2021-11-18 16:43:34</td>\n",
       "    </tr>\n",
       "    <tr>\n",
       "      <th>2</th>\n",
       "      <td>2</td>\n",
       "      <td>gp:AOqpTOGTiyxy_FWSQe7eCONa7PsIP6v7cS-xWCL6jFF...</td>\n",
       "      <td>PARVESH MIAR</td>\n",
       "      <td>https://play-lh.googleusercontent.com/a-/AOh14...</td>\n",
       "      <td>All ok</td>\n",
       "      <td>5</td>\n",
       "      <td>0</td>\n",
       "      <td>2.138.406141160</td>\n",
       "      <td>2021-11-18 16:12:42</td>\n",
       "    </tr>\n",
       "    <tr>\n",
       "      <th>7</th>\n",
       "      <td>7</td>\n",
       "      <td>gp:AOqpTOGtGq9UD4JtPm9Sk9FFwabOopeIUlfCyXnjzRv...</td>\n",
       "      <td>Robin Cramp</td>\n",
       "      <td>https://play-lh.googleusercontent.com/a/AATXAJ...</td>\n",
       "      <td>App is now working for me as expected. Google ...</td>\n",
       "      <td>5</td>\n",
       "      <td>11</td>\n",
       "      <td>2.138.406141160</td>\n",
       "      <td>2021-11-18 14:05:44</td>\n",
       "    </tr>\n",
       "    <tr>\n",
       "      <th>8</th>\n",
       "      <td>8</td>\n",
       "      <td>gp:AOqpTOEdjQ2KHKNbHnEk25WQ6fKlbZcABSRSglLImIz...</td>\n",
       "      <td>Matthew Chandler</td>\n",
       "      <td>https://play-lh.googleusercontent.com/a-/AOh14...</td>\n",
       "      <td>Good</td>\n",
       "      <td>5</td>\n",
       "      <td>0</td>\n",
       "      <td>2.138.406141160</td>\n",
       "      <td>2021-11-18 13:38:21</td>\n",
       "    </tr>\n",
       "  </tbody>\n",
       "</table>\n",
       "</div>"
      ],
      "text/plain": [
       "   Unnamed: 0                                           reviewId  \\\n",
       "0           0  gp:AOqpTOEdT_VactGi_J9Q2PEWY7J4XlD7BINhOj9xwOr...   \n",
       "1           1  gp:AOqpTOHltpCzXurPoFUgj-a3L-wApC93-fTvocbF9K7...   \n",
       "2           2  gp:AOqpTOGTiyxy_FWSQe7eCONa7PsIP6v7cS-xWCL6jFF...   \n",
       "7           7  gp:AOqpTOGtGq9UD4JtPm9Sk9FFwabOopeIUlfCyXnjzRv...   \n",
       "8           8  gp:AOqpTOEdjQ2KHKNbHnEk25WQ6fKlbZcABSRSglLImIz...   \n",
       "\n",
       "           userName                                          userImage  \\\n",
       "0        Len Pagnam  https://play-lh.googleusercontent.com/a-/AOh14...   \n",
       "1    Benjamin Silva  https://play-lh.googleusercontent.com/a/AATXAJ...   \n",
       "2      PARVESH MIAR  https://play-lh.googleusercontent.com/a-/AOh14...   \n",
       "7       Robin Cramp  https://play-lh.googleusercontent.com/a/AATXAJ...   \n",
       "8  Matthew Chandler  https://play-lh.googleusercontent.com/a-/AOh14...   \n",
       "\n",
       "                                             content  score  thumbsUpCount  \\\n",
       "0   How do add a boarding pass? I see no passes tab.      1              0   \n",
       "1                                               Best      5              0   \n",
       "2                                             All ok      5              0   \n",
       "7  App is now working for me as expected. Google ...      5             11   \n",
       "8                                               Good      5              0   \n",
       "\n",
       "  reviewCreatedVersion                   at  \n",
       "0      2.137.401329300  2021-11-18 17:03:06  \n",
       "1      2.134.392709498  2021-11-18 16:43:34  \n",
       "2      2.138.406141160  2021-11-18 16:12:42  \n",
       "7      2.138.406141160  2021-11-18 14:05:44  \n",
       "8      2.138.406141160  2021-11-18 13:38:21  "
      ]
     },
     "execution_count": 12,
     "metadata": {},
     "output_type": "execute_result"
    }
   ],
   "source": [
    "data_new.head()"
   ]
  },
  {
   "cell_type": "code",
   "execution_count": 13,
   "id": "73b94763",
   "metadata": {
    "execution": {
     "iopub.execute_input": "2024-01-03T19:57:33.074754Z",
     "iopub.status.busy": "2024-01-03T19:57:33.074001Z",
     "iopub.status.idle": "2024-01-03T19:57:33.083299Z",
     "shell.execute_reply": "2024-01-03T19:57:33.082007Z"
    },
    "papermill": {
     "duration": 0.029628,
     "end_time": "2024-01-03T19:57:33.086356",
     "exception": false,
     "start_time": "2024-01-03T19:57:33.056728",
     "status": "completed"
    },
    "tags": []
   },
   "outputs": [
    {
     "data": {
      "text/plain": [
       "(24164, 9)"
      ]
     },
     "execution_count": 13,
     "metadata": {},
     "output_type": "execute_result"
    }
   ],
   "source": [
    "data_new.shape"
   ]
  },
  {
   "cell_type": "code",
   "execution_count": 14,
   "id": "a4bf343c",
   "metadata": {
    "execution": {
     "iopub.execute_input": "2024-01-03T19:57:33.120938Z",
     "iopub.status.busy": "2024-01-03T19:57:33.119781Z",
     "iopub.status.idle": "2024-01-03T19:57:33.149337Z",
     "shell.execute_reply": "2024-01-03T19:57:33.148062Z"
    },
    "papermill": {
     "duration": 0.0493,
     "end_time": "2024-01-03T19:57:33.151784",
     "exception": false,
     "start_time": "2024-01-03T19:57:33.102484",
     "status": "completed"
    },
    "tags": []
   },
   "outputs": [],
   "source": [
    "data_new = data_new.assign(length=data_new['content'].apply(lambda x: len(x)))\n"
   ]
  },
  {
   "cell_type": "code",
   "execution_count": 15,
   "id": "d7628949",
   "metadata": {
    "execution": {
     "iopub.execute_input": "2024-01-03T19:57:33.184320Z",
     "iopub.status.busy": "2024-01-03T19:57:33.183870Z",
     "iopub.status.idle": "2024-01-03T19:57:33.205290Z",
     "shell.execute_reply": "2024-01-03T19:57:33.204164Z"
    },
    "papermill": {
     "duration": 0.040858,
     "end_time": "2024-01-03T19:57:33.207616",
     "exception": false,
     "start_time": "2024-01-03T19:57:33.166758",
     "status": "completed"
    },
    "tags": []
   },
   "outputs": [
    {
     "data": {
      "text/html": [
       "<div>\n",
       "<style scoped>\n",
       "    .dataframe tbody tr th:only-of-type {\n",
       "        vertical-align: middle;\n",
       "    }\n",
       "\n",
       "    .dataframe tbody tr th {\n",
       "        vertical-align: top;\n",
       "    }\n",
       "\n",
       "    .dataframe thead th {\n",
       "        text-align: right;\n",
       "    }\n",
       "</style>\n",
       "<table border=\"1\" class=\"dataframe\">\n",
       "  <thead>\n",
       "    <tr style=\"text-align: right;\">\n",
       "      <th></th>\n",
       "      <th>Unnamed: 0</th>\n",
       "      <th>reviewId</th>\n",
       "      <th>userName</th>\n",
       "      <th>userImage</th>\n",
       "      <th>content</th>\n",
       "      <th>score</th>\n",
       "      <th>thumbsUpCount</th>\n",
       "      <th>reviewCreatedVersion</th>\n",
       "      <th>at</th>\n",
       "      <th>length</th>\n",
       "    </tr>\n",
       "  </thead>\n",
       "  <tbody>\n",
       "    <tr>\n",
       "      <th>0</th>\n",
       "      <td>0</td>\n",
       "      <td>gp:AOqpTOEdT_VactGi_J9Q2PEWY7J4XlD7BINhOj9xwOr...</td>\n",
       "      <td>Len Pagnam</td>\n",
       "      <td>https://play-lh.googleusercontent.com/a-/AOh14...</td>\n",
       "      <td>How do add a boarding pass? I see no passes tab.</td>\n",
       "      <td>1</td>\n",
       "      <td>0</td>\n",
       "      <td>2.137.401329300</td>\n",
       "      <td>2021-11-18 17:03:06</td>\n",
       "      <td>48</td>\n",
       "    </tr>\n",
       "    <tr>\n",
       "      <th>1</th>\n",
       "      <td>1</td>\n",
       "      <td>gp:AOqpTOHltpCzXurPoFUgj-a3L-wApC93-fTvocbF9K7...</td>\n",
       "      <td>Benjamin Silva</td>\n",
       "      <td>https://play-lh.googleusercontent.com/a/AATXAJ...</td>\n",
       "      <td>Best</td>\n",
       "      <td>5</td>\n",
       "      <td>0</td>\n",
       "      <td>2.134.392709498</td>\n",
       "      <td>2021-11-18 16:43:34</td>\n",
       "      <td>4</td>\n",
       "    </tr>\n",
       "    <tr>\n",
       "      <th>2</th>\n",
       "      <td>2</td>\n",
       "      <td>gp:AOqpTOGTiyxy_FWSQe7eCONa7PsIP6v7cS-xWCL6jFF...</td>\n",
       "      <td>PARVESH MIAR</td>\n",
       "      <td>https://play-lh.googleusercontent.com/a-/AOh14...</td>\n",
       "      <td>All ok</td>\n",
       "      <td>5</td>\n",
       "      <td>0</td>\n",
       "      <td>2.138.406141160</td>\n",
       "      <td>2021-11-18 16:12:42</td>\n",
       "      <td>6</td>\n",
       "    </tr>\n",
       "    <tr>\n",
       "      <th>7</th>\n",
       "      <td>7</td>\n",
       "      <td>gp:AOqpTOGtGq9UD4JtPm9Sk9FFwabOopeIUlfCyXnjzRv...</td>\n",
       "      <td>Robin Cramp</td>\n",
       "      <td>https://play-lh.googleusercontent.com/a/AATXAJ...</td>\n",
       "      <td>App is now working for me as expected. Google ...</td>\n",
       "      <td>5</td>\n",
       "      <td>11</td>\n",
       "      <td>2.138.406141160</td>\n",
       "      <td>2021-11-18 14:05:44</td>\n",
       "      <td>346</td>\n",
       "    </tr>\n",
       "    <tr>\n",
       "      <th>8</th>\n",
       "      <td>8</td>\n",
       "      <td>gp:AOqpTOEdjQ2KHKNbHnEk25WQ6fKlbZcABSRSglLImIz...</td>\n",
       "      <td>Matthew Chandler</td>\n",
       "      <td>https://play-lh.googleusercontent.com/a-/AOh14...</td>\n",
       "      <td>Good</td>\n",
       "      <td>5</td>\n",
       "      <td>0</td>\n",
       "      <td>2.138.406141160</td>\n",
       "      <td>2021-11-18 13:38:21</td>\n",
       "      <td>4</td>\n",
       "    </tr>\n",
       "    <tr>\n",
       "      <th>...</th>\n",
       "      <td>...</td>\n",
       "      <td>...</td>\n",
       "      <td>...</td>\n",
       "      <td>...</td>\n",
       "      <td>...</td>\n",
       "      <td>...</td>\n",
       "      <td>...</td>\n",
       "      <td>...</td>\n",
       "      <td>...</td>\n",
       "      <td>...</td>\n",
       "    </tr>\n",
       "    <tr>\n",
       "      <th>34223</th>\n",
       "      <td>34223</td>\n",
       "      <td>gp:AOqpTOEXYnopFG3RZ8fVrBC9yqXnVjmhnDI0Ji99tXb...</td>\n",
       "      <td>Daran Smith</td>\n",
       "      <td>https://play-lh.googleusercontent.com/a-/AOh14...</td>\n",
       "      <td>Like it good app</td>\n",
       "      <td>5</td>\n",
       "      <td>0</td>\n",
       "      <td>2.96.264233179</td>\n",
       "      <td>2019-10-01 02:47:10</td>\n",
       "      <td>16</td>\n",
       "    </tr>\n",
       "    <tr>\n",
       "      <th>34224</th>\n",
       "      <td>34224</td>\n",
       "      <td>gp:AOqpTOEVXSkb09ThJsY2TZ0awLgMSCO0qzySxtcT7x9...</td>\n",
       "      <td>Judi Anne</td>\n",
       "      <td>https://play-lh.googleusercontent.com/a-/AOh14...</td>\n",
       "      <td>Excellent very easy to use</td>\n",
       "      <td>5</td>\n",
       "      <td>0</td>\n",
       "      <td>2.95.262992467</td>\n",
       "      <td>2019-10-01 02:38:48</td>\n",
       "      <td>26</td>\n",
       "    </tr>\n",
       "    <tr>\n",
       "      <th>34225</th>\n",
       "      <td>34225</td>\n",
       "      <td>gp:AOqpTOHv3DyIxgg2a61I_QQGgjbFodIUp6UlaUpd4M9...</td>\n",
       "      <td>Noori Lal</td>\n",
       "      <td>https://play-lh.googleusercontent.com/a-/AOh14...</td>\n",
       "      <td>Easy to use.</td>\n",
       "      <td>5</td>\n",
       "      <td>0</td>\n",
       "      <td>2.96.264233179</td>\n",
       "      <td>2019-10-01 02:17:54</td>\n",
       "      <td>12</td>\n",
       "    </tr>\n",
       "    <tr>\n",
       "      <th>34226</th>\n",
       "      <td>34226</td>\n",
       "      <td>gp:AOqpTOHEnAmESklDXdnvO13QBDl9gOlH4M1qQs-gMYS...</td>\n",
       "      <td>Josh Phillips</td>\n",
       "      <td>https://play-lh.googleusercontent.com/a-/AOh14...</td>\n",
       "      <td>Works how it should</td>\n",
       "      <td>5</td>\n",
       "      <td>0</td>\n",
       "      <td>2.96.264233179</td>\n",
       "      <td>2019-10-01 02:09:34</td>\n",
       "      <td>19</td>\n",
       "    </tr>\n",
       "    <tr>\n",
       "      <th>34227</th>\n",
       "      <td>34227</td>\n",
       "      <td>gp:AOqpTOHfgaMoLANmo4v7W91hqWvHFJ7ogUmKQ7fvcNo...</td>\n",
       "      <td>Saeed Aljasmi</td>\n",
       "      <td>https://play-lh.googleusercontent.com/a/AATXAJ...</td>\n",
       "      <td>Best</td>\n",
       "      <td>5</td>\n",
       "      <td>0</td>\n",
       "      <td>2.96.264233179</td>\n",
       "      <td>2019-10-01 02:06:57</td>\n",
       "      <td>4</td>\n",
       "    </tr>\n",
       "  </tbody>\n",
       "</table>\n",
       "<p>24164 rows × 10 columns</p>\n",
       "</div>"
      ],
      "text/plain": [
       "       Unnamed: 0                                           reviewId  \\\n",
       "0               0  gp:AOqpTOEdT_VactGi_J9Q2PEWY7J4XlD7BINhOj9xwOr...   \n",
       "1               1  gp:AOqpTOHltpCzXurPoFUgj-a3L-wApC93-fTvocbF9K7...   \n",
       "2               2  gp:AOqpTOGTiyxy_FWSQe7eCONa7PsIP6v7cS-xWCL6jFF...   \n",
       "7               7  gp:AOqpTOGtGq9UD4JtPm9Sk9FFwabOopeIUlfCyXnjzRv...   \n",
       "8               8  gp:AOqpTOEdjQ2KHKNbHnEk25WQ6fKlbZcABSRSglLImIz...   \n",
       "...           ...                                                ...   \n",
       "34223       34223  gp:AOqpTOEXYnopFG3RZ8fVrBC9yqXnVjmhnDI0Ji99tXb...   \n",
       "34224       34224  gp:AOqpTOEVXSkb09ThJsY2TZ0awLgMSCO0qzySxtcT7x9...   \n",
       "34225       34225  gp:AOqpTOHv3DyIxgg2a61I_QQGgjbFodIUp6UlaUpd4M9...   \n",
       "34226       34226  gp:AOqpTOHEnAmESklDXdnvO13QBDl9gOlH4M1qQs-gMYS...   \n",
       "34227       34227  gp:AOqpTOHfgaMoLANmo4v7W91hqWvHFJ7ogUmKQ7fvcNo...   \n",
       "\n",
       "               userName                                          userImage  \\\n",
       "0            Len Pagnam  https://play-lh.googleusercontent.com/a-/AOh14...   \n",
       "1        Benjamin Silva  https://play-lh.googleusercontent.com/a/AATXAJ...   \n",
       "2          PARVESH MIAR  https://play-lh.googleusercontent.com/a-/AOh14...   \n",
       "7           Robin Cramp  https://play-lh.googleusercontent.com/a/AATXAJ...   \n",
       "8      Matthew Chandler  https://play-lh.googleusercontent.com/a-/AOh14...   \n",
       "...                 ...                                                ...   \n",
       "34223       Daran Smith  https://play-lh.googleusercontent.com/a-/AOh14...   \n",
       "34224         Judi Anne  https://play-lh.googleusercontent.com/a-/AOh14...   \n",
       "34225         Noori Lal  https://play-lh.googleusercontent.com/a-/AOh14...   \n",
       "34226     Josh Phillips  https://play-lh.googleusercontent.com/a-/AOh14...   \n",
       "34227     Saeed Aljasmi  https://play-lh.googleusercontent.com/a/AATXAJ...   \n",
       "\n",
       "                                                 content  score  \\\n",
       "0       How do add a boarding pass? I see no passes tab.      1   \n",
       "1                                                   Best      5   \n",
       "2                                                 All ok      5   \n",
       "7      App is now working for me as expected. Google ...      5   \n",
       "8                                                   Good      5   \n",
       "...                                                  ...    ...   \n",
       "34223                                   Like it good app      5   \n",
       "34224                         Excellent very easy to use      5   \n",
       "34225                                       Easy to use.      5   \n",
       "34226                                Works how it should      5   \n",
       "34227                                               Best      5   \n",
       "\n",
       "       thumbsUpCount reviewCreatedVersion                   at  length  \n",
       "0                  0      2.137.401329300  2021-11-18 17:03:06      48  \n",
       "1                  0      2.134.392709498  2021-11-18 16:43:34       4  \n",
       "2                  0      2.138.406141160  2021-11-18 16:12:42       6  \n",
       "7                 11      2.138.406141160  2021-11-18 14:05:44     346  \n",
       "8                  0      2.138.406141160  2021-11-18 13:38:21       4  \n",
       "...              ...                  ...                  ...     ...  \n",
       "34223              0       2.96.264233179  2019-10-01 02:47:10      16  \n",
       "34224              0       2.95.262992467  2019-10-01 02:38:48      26  \n",
       "34225              0       2.96.264233179  2019-10-01 02:17:54      12  \n",
       "34226              0       2.96.264233179  2019-10-01 02:09:34      19  \n",
       "34227              0       2.96.264233179  2019-10-01 02:06:57       4  \n",
       "\n",
       "[24164 rows x 10 columns]"
      ]
     },
     "execution_count": 15,
     "metadata": {},
     "output_type": "execute_result"
    }
   ],
   "source": [
    "data_new"
   ]
  },
  {
   "cell_type": "code",
   "execution_count": 16,
   "id": "4b3b7425",
   "metadata": {
    "execution": {
     "iopub.execute_input": "2024-01-03T19:57:33.241200Z",
     "iopub.status.busy": "2024-01-03T19:57:33.239963Z",
     "iopub.status.idle": "2024-01-03T19:57:33.247993Z",
     "shell.execute_reply": "2024-01-03T19:57:33.247005Z"
    },
    "papermill": {
     "duration": 0.02729,
     "end_time": "2024-01-03T19:57:33.250370",
     "exception": false,
     "start_time": "2024-01-03T19:57:33.223080",
     "status": "completed"
    },
    "tags": []
   },
   "outputs": [],
   "source": [
    "data_new = pd.DataFrame(data=data_new, columns =['content', 'length', 'score'])"
   ]
  },
  {
   "cell_type": "code",
   "execution_count": 17,
   "id": "05c86094",
   "metadata": {
    "execution": {
     "iopub.execute_input": "2024-01-03T19:57:33.284303Z",
     "iopub.status.busy": "2024-01-03T19:57:33.283779Z",
     "iopub.status.idle": "2024-01-03T19:57:33.295959Z",
     "shell.execute_reply": "2024-01-03T19:57:33.294976Z"
    },
    "papermill": {
     "duration": 0.031738,
     "end_time": "2024-01-03T19:57:33.298080",
     "exception": false,
     "start_time": "2024-01-03T19:57:33.266342",
     "status": "completed"
    },
    "tags": []
   },
   "outputs": [
    {
     "data": {
      "text/html": [
       "<div>\n",
       "<style scoped>\n",
       "    .dataframe tbody tr th:only-of-type {\n",
       "        vertical-align: middle;\n",
       "    }\n",
       "\n",
       "    .dataframe tbody tr th {\n",
       "        vertical-align: top;\n",
       "    }\n",
       "\n",
       "    .dataframe thead th {\n",
       "        text-align: right;\n",
       "    }\n",
       "</style>\n",
       "<table border=\"1\" class=\"dataframe\">\n",
       "  <thead>\n",
       "    <tr style=\"text-align: right;\">\n",
       "      <th></th>\n",
       "      <th>content</th>\n",
       "      <th>length</th>\n",
       "      <th>score</th>\n",
       "    </tr>\n",
       "  </thead>\n",
       "  <tbody>\n",
       "    <tr>\n",
       "      <th>0</th>\n",
       "      <td>How do add a boarding pass? I see no passes tab.</td>\n",
       "      <td>48</td>\n",
       "      <td>1</td>\n",
       "    </tr>\n",
       "    <tr>\n",
       "      <th>1</th>\n",
       "      <td>Best</td>\n",
       "      <td>4</td>\n",
       "      <td>5</td>\n",
       "    </tr>\n",
       "    <tr>\n",
       "      <th>2</th>\n",
       "      <td>All ok</td>\n",
       "      <td>6</td>\n",
       "      <td>5</td>\n",
       "    </tr>\n",
       "    <tr>\n",
       "      <th>7</th>\n",
       "      <td>App is now working for me as expected. Google ...</td>\n",
       "      <td>346</td>\n",
       "      <td>5</td>\n",
       "    </tr>\n",
       "    <tr>\n",
       "      <th>8</th>\n",
       "      <td>Good</td>\n",
       "      <td>4</td>\n",
       "      <td>5</td>\n",
       "    </tr>\n",
       "  </tbody>\n",
       "</table>\n",
       "</div>"
      ],
      "text/plain": [
       "                                             content  length  score\n",
       "0   How do add a boarding pass? I see no passes tab.      48      1\n",
       "1                                               Best       4      5\n",
       "2                                             All ok       6      5\n",
       "7  App is now working for me as expected. Google ...     346      5\n",
       "8                                               Good       4      5"
      ]
     },
     "execution_count": 17,
     "metadata": {},
     "output_type": "execute_result"
    }
   ],
   "source": [
    "data_new.head()"
   ]
  },
  {
   "cell_type": "code",
   "execution_count": 18,
   "id": "403f78b1",
   "metadata": {
    "execution": {
     "iopub.execute_input": "2024-01-03T19:57:33.394661Z",
     "iopub.status.busy": "2024-01-03T19:57:33.393890Z",
     "iopub.status.idle": "2024-01-03T19:57:33.399464Z",
     "shell.execute_reply": "2024-01-03T19:57:33.398375Z"
    },
    "papermill": {
     "duration": 0.088237,
     "end_time": "2024-01-03T19:57:33.401873",
     "exception": false,
     "start_time": "2024-01-03T19:57:33.313636",
     "status": "completed"
    },
    "tags": []
   },
   "outputs": [],
   "source": [
    "import string"
   ]
  },
  {
   "cell_type": "code",
   "execution_count": 19,
   "id": "64638869",
   "metadata": {
    "execution": {
     "iopub.execute_input": "2024-01-03T19:57:33.436582Z",
     "iopub.status.busy": "2024-01-03T19:57:33.436128Z",
     "iopub.status.idle": "2024-01-03T19:57:33.443932Z",
     "shell.execute_reply": "2024-01-03T19:57:33.442735Z"
    },
    "papermill": {
     "duration": 0.028276,
     "end_time": "2024-01-03T19:57:33.446293",
     "exception": false,
     "start_time": "2024-01-03T19:57:33.418017",
     "status": "completed"
    },
    "tags": []
   },
   "outputs": [
    {
     "data": {
      "text/plain": [
       "'!\"#$%&\\'()*+,-./:;<=>?@[\\\\]^_`{|}~'"
      ]
     },
     "execution_count": 19,
     "metadata": {},
     "output_type": "execute_result"
    }
   ],
   "source": [
    "string.punctuation"
   ]
  },
  {
   "cell_type": "code",
   "execution_count": 20,
   "id": "44658fc3",
   "metadata": {
    "execution": {
     "iopub.execute_input": "2024-01-03T19:57:33.481654Z",
     "iopub.status.busy": "2024-01-03T19:57:33.481179Z",
     "iopub.status.idle": "2024-01-03T19:57:33.805056Z",
     "shell.execute_reply": "2024-01-03T19:57:33.803558Z"
    },
    "papermill": {
     "duration": 0.346739,
     "end_time": "2024-01-03T19:57:33.809198",
     "exception": false,
     "start_time": "2024-01-03T19:57:33.462459",
     "status": "completed"
    },
    "tags": []
   },
   "outputs": [],
   "source": [
    "data_new['nopunc'] = data_new['content'].apply(lambda x: [a for a in x if a not in string.punctuation])"
   ]
  },
  {
   "cell_type": "code",
   "execution_count": 21,
   "id": "22c215dd",
   "metadata": {
    "execution": {
     "iopub.execute_input": "2024-01-03T19:57:33.846061Z",
     "iopub.status.busy": "2024-01-03T19:57:33.845569Z",
     "iopub.status.idle": "2024-01-03T19:57:33.854465Z",
     "shell.execute_reply": "2024-01-03T19:57:33.853119Z"
    },
    "papermill": {
     "duration": 0.030475,
     "end_time": "2024-01-03T19:57:33.857067",
     "exception": false,
     "start_time": "2024-01-03T19:57:33.826592",
     "status": "completed"
    },
    "tags": []
   },
   "outputs": [],
   "source": [
    "data_new = pd.DataFrame(data=data_new, columns =['nopunc', 'length', 'score'])"
   ]
  },
  {
   "cell_type": "code",
   "execution_count": 22,
   "id": "be9be11a",
   "metadata": {
    "execution": {
     "iopub.execute_input": "2024-01-03T19:57:33.893123Z",
     "iopub.status.busy": "2024-01-03T19:57:33.891746Z",
     "iopub.status.idle": "2024-01-03T19:57:33.953683Z",
     "shell.execute_reply": "2024-01-03T19:57:33.952350Z"
    },
    "papermill": {
     "duration": 0.083068,
     "end_time": "2024-01-03T19:57:33.956668",
     "exception": false,
     "start_time": "2024-01-03T19:57:33.873600",
     "status": "completed"
    },
    "tags": []
   },
   "outputs": [],
   "source": [
    "data_new['nopunc'] = data_new['nopunc'].apply(''.join)"
   ]
  },
  {
   "cell_type": "code",
   "execution_count": 23,
   "id": "9b2e5075",
   "metadata": {
    "execution": {
     "iopub.execute_input": "2024-01-03T19:57:33.993776Z",
     "iopub.status.busy": "2024-01-03T19:57:33.993286Z",
     "iopub.status.idle": "2024-01-03T19:57:34.009705Z",
     "shell.execute_reply": "2024-01-03T19:57:34.007958Z"
    },
    "papermill": {
     "duration": 0.038474,
     "end_time": "2024-01-03T19:57:34.012118",
     "exception": false,
     "start_time": "2024-01-03T19:57:33.973644",
     "status": "completed"
    },
    "tags": []
   },
   "outputs": [
    {
     "data": {
      "text/html": [
       "<div>\n",
       "<style scoped>\n",
       "    .dataframe tbody tr th:only-of-type {\n",
       "        vertical-align: middle;\n",
       "    }\n",
       "\n",
       "    .dataframe tbody tr th {\n",
       "        vertical-align: top;\n",
       "    }\n",
       "\n",
       "    .dataframe thead th {\n",
       "        text-align: right;\n",
       "    }\n",
       "</style>\n",
       "<table border=\"1\" class=\"dataframe\">\n",
       "  <thead>\n",
       "    <tr style=\"text-align: right;\">\n",
       "      <th></th>\n",
       "      <th>nopunc</th>\n",
       "      <th>length</th>\n",
       "      <th>score</th>\n",
       "    </tr>\n",
       "  </thead>\n",
       "  <tbody>\n",
       "    <tr>\n",
       "      <th>0</th>\n",
       "      <td>How do add a boarding pass I see no passes tab</td>\n",
       "      <td>48</td>\n",
       "      <td>1</td>\n",
       "    </tr>\n",
       "    <tr>\n",
       "      <th>1</th>\n",
       "      <td>Best</td>\n",
       "      <td>4</td>\n",
       "      <td>5</td>\n",
       "    </tr>\n",
       "    <tr>\n",
       "      <th>2</th>\n",
       "      <td>All ok</td>\n",
       "      <td>6</td>\n",
       "      <td>5</td>\n",
       "    </tr>\n",
       "    <tr>\n",
       "      <th>7</th>\n",
       "      <td>App is now working for me as expected Google P...</td>\n",
       "      <td>346</td>\n",
       "      <td>5</td>\n",
       "    </tr>\n",
       "    <tr>\n",
       "      <th>8</th>\n",
       "      <td>Good</td>\n",
       "      <td>4</td>\n",
       "      <td>5</td>\n",
       "    </tr>\n",
       "    <tr>\n",
       "      <th>...</th>\n",
       "      <td>...</td>\n",
       "      <td>...</td>\n",
       "      <td>...</td>\n",
       "    </tr>\n",
       "    <tr>\n",
       "      <th>34223</th>\n",
       "      <td>Like it good app</td>\n",
       "      <td>16</td>\n",
       "      <td>5</td>\n",
       "    </tr>\n",
       "    <tr>\n",
       "      <th>34224</th>\n",
       "      <td>Excellent very easy to use</td>\n",
       "      <td>26</td>\n",
       "      <td>5</td>\n",
       "    </tr>\n",
       "    <tr>\n",
       "      <th>34225</th>\n",
       "      <td>Easy to use</td>\n",
       "      <td>12</td>\n",
       "      <td>5</td>\n",
       "    </tr>\n",
       "    <tr>\n",
       "      <th>34226</th>\n",
       "      <td>Works how it should</td>\n",
       "      <td>19</td>\n",
       "      <td>5</td>\n",
       "    </tr>\n",
       "    <tr>\n",
       "      <th>34227</th>\n",
       "      <td>Best</td>\n",
       "      <td>4</td>\n",
       "      <td>5</td>\n",
       "    </tr>\n",
       "  </tbody>\n",
       "</table>\n",
       "<p>24164 rows × 3 columns</p>\n",
       "</div>"
      ],
      "text/plain": [
       "                                                  nopunc  length  score\n",
       "0         How do add a boarding pass I see no passes tab      48      1\n",
       "1                                                   Best       4      5\n",
       "2                                                 All ok       6      5\n",
       "7      App is now working for me as expected Google P...     346      5\n",
       "8                                                   Good       4      5\n",
       "...                                                  ...     ...    ...\n",
       "34223                                   Like it good app      16      5\n",
       "34224                         Excellent very easy to use      26      5\n",
       "34225                                        Easy to use      12      5\n",
       "34226                                Works how it should      19      5\n",
       "34227                                               Best       4      5\n",
       "\n",
       "[24164 rows x 3 columns]"
      ]
     },
     "execution_count": 23,
     "metadata": {},
     "output_type": "execute_result"
    }
   ],
   "source": [
    "data_new"
   ]
  },
  {
   "cell_type": "code",
   "execution_count": 24,
   "id": "5bbe048a",
   "metadata": {
    "execution": {
     "iopub.execute_input": "2024-01-03T19:57:34.047881Z",
     "iopub.status.busy": "2024-01-03T19:57:34.047337Z",
     "iopub.status.idle": "2024-01-03T19:57:34.053577Z",
     "shell.execute_reply": "2024-01-03T19:57:34.052329Z"
    },
    "papermill": {
     "duration": 0.02705,
     "end_time": "2024-01-03T19:57:34.055858",
     "exception": false,
     "start_time": "2024-01-03T19:57:34.028808",
     "status": "completed"
    },
    "tags": []
   },
   "outputs": [],
   "source": [
    "X = data_new['nopunc']\n",
    "y = data_new['score']"
   ]
  },
  {
   "cell_type": "code",
   "execution_count": 25,
   "id": "e27612fa",
   "metadata": {
    "execution": {
     "iopub.execute_input": "2024-01-03T19:57:34.092559Z",
     "iopub.status.busy": "2024-01-03T19:57:34.092027Z",
     "iopub.status.idle": "2024-01-03T19:57:34.265346Z",
     "shell.execute_reply": "2024-01-03T19:57:34.264167Z"
    },
    "papermill": {
     "duration": 0.196112,
     "end_time": "2024-01-03T19:57:34.268559",
     "exception": false,
     "start_time": "2024-01-03T19:57:34.072447",
     "status": "completed"
    },
    "tags": []
   },
   "outputs": [],
   "source": [
    "from sklearn.feature_extraction.text import CountVectorizer\n",
    "cv = CountVectorizer()"
   ]
  },
  {
   "cell_type": "code",
   "execution_count": 26,
   "id": "424f1e29",
   "metadata": {
    "execution": {
     "iopub.execute_input": "2024-01-03T19:57:34.305464Z",
     "iopub.status.busy": "2024-01-03T19:57:34.305066Z",
     "iopub.status.idle": "2024-01-03T19:57:34.885182Z",
     "shell.execute_reply": "2024-01-03T19:57:34.883508Z"
    },
    "papermill": {
     "duration": 0.603883,
     "end_time": "2024-01-03T19:57:34.889800",
     "exception": false,
     "start_time": "2024-01-03T19:57:34.285917",
     "status": "completed"
    },
    "tags": []
   },
   "outputs": [],
   "source": [
    "X = cv.fit_transform(X)"
   ]
  },
  {
   "cell_type": "code",
   "execution_count": 27,
   "id": "7e868521",
   "metadata": {
    "execution": {
     "iopub.execute_input": "2024-01-03T19:57:34.940193Z",
     "iopub.status.busy": "2024-01-03T19:57:34.939634Z",
     "iopub.status.idle": "2024-01-03T19:57:35.055987Z",
     "shell.execute_reply": "2024-01-03T19:57:35.054647Z"
    },
    "papermill": {
     "duration": 0.149247,
     "end_time": "2024-01-03T19:57:35.059071",
     "exception": false,
     "start_time": "2024-01-03T19:57:34.909824",
     "status": "completed"
    },
    "tags": []
   },
   "outputs": [],
   "source": [
    "from sklearn.model_selection import train_test_split"
   ]
  },
  {
   "cell_type": "code",
   "execution_count": 28,
   "id": "33affa3d",
   "metadata": {
    "execution": {
     "iopub.execute_input": "2024-01-03T19:57:35.095134Z",
     "iopub.status.busy": "2024-01-03T19:57:35.093648Z",
     "iopub.status.idle": "2024-01-03T19:57:35.107123Z",
     "shell.execute_reply": "2024-01-03T19:57:35.105816Z"
    },
    "papermill": {
     "duration": 0.034107,
     "end_time": "2024-01-03T19:57:35.109935",
     "exception": false,
     "start_time": "2024-01-03T19:57:35.075828",
     "status": "completed"
    },
    "tags": []
   },
   "outputs": [],
   "source": [
    "X_train, X_test, y_train, y_test = train_test_split(X,y,test_size=0.3, random_state=101)"
   ]
  },
  {
   "cell_type": "code",
   "execution_count": 29,
   "id": "82231a78",
   "metadata": {
    "execution": {
     "iopub.execute_input": "2024-01-03T19:57:35.145061Z",
     "iopub.status.busy": "2024-01-03T19:57:35.144653Z",
     "iopub.status.idle": "2024-01-03T19:57:35.152388Z",
     "shell.execute_reply": "2024-01-03T19:57:35.151615Z"
    },
    "papermill": {
     "duration": 0.028733,
     "end_time": "2024-01-03T19:57:35.155124",
     "exception": false,
     "start_time": "2024-01-03T19:57:35.126391",
     "status": "completed"
    },
    "tags": []
   },
   "outputs": [],
   "source": [
    "from sklearn.naive_bayes import MultinomialNB\n",
    "nb = MultinomialNB()"
   ]
  },
  {
   "cell_type": "code",
   "execution_count": 30,
   "id": "433fcb34",
   "metadata": {
    "execution": {
     "iopub.execute_input": "2024-01-03T19:57:35.196124Z",
     "iopub.status.busy": "2024-01-03T19:57:35.195277Z",
     "iopub.status.idle": "2024-01-03T19:57:35.219363Z",
     "shell.execute_reply": "2024-01-03T19:57:35.218236Z"
    },
    "papermill": {
     "duration": 0.050073,
     "end_time": "2024-01-03T19:57:35.222625",
     "exception": false,
     "start_time": "2024-01-03T19:57:35.172552",
     "status": "completed"
    },
    "tags": []
   },
   "outputs": [
    {
     "data": {
      "text/html": [
       "<style>#sk-container-id-1 {color: black;background-color: white;}#sk-container-id-1 pre{padding: 0;}#sk-container-id-1 div.sk-toggleable {background-color: white;}#sk-container-id-1 label.sk-toggleable__label {cursor: pointer;display: block;width: 100%;margin-bottom: 0;padding: 0.3em;box-sizing: border-box;text-align: center;}#sk-container-id-1 label.sk-toggleable__label-arrow:before {content: \"▸\";float: left;margin-right: 0.25em;color: #696969;}#sk-container-id-1 label.sk-toggleable__label-arrow:hover:before {color: black;}#sk-container-id-1 div.sk-estimator:hover label.sk-toggleable__label-arrow:before {color: black;}#sk-container-id-1 div.sk-toggleable__content {max-height: 0;max-width: 0;overflow: hidden;text-align: left;background-color: #f0f8ff;}#sk-container-id-1 div.sk-toggleable__content pre {margin: 0.2em;color: black;border-radius: 0.25em;background-color: #f0f8ff;}#sk-container-id-1 input.sk-toggleable__control:checked~div.sk-toggleable__content {max-height: 200px;max-width: 100%;overflow: auto;}#sk-container-id-1 input.sk-toggleable__control:checked~label.sk-toggleable__label-arrow:before {content: \"▾\";}#sk-container-id-1 div.sk-estimator input.sk-toggleable__control:checked~label.sk-toggleable__label {background-color: #d4ebff;}#sk-container-id-1 div.sk-label input.sk-toggleable__control:checked~label.sk-toggleable__label {background-color: #d4ebff;}#sk-container-id-1 input.sk-hidden--visually {border: 0;clip: rect(1px 1px 1px 1px);clip: rect(1px, 1px, 1px, 1px);height: 1px;margin: -1px;overflow: hidden;padding: 0;position: absolute;width: 1px;}#sk-container-id-1 div.sk-estimator {font-family: monospace;background-color: #f0f8ff;border: 1px dotted black;border-radius: 0.25em;box-sizing: border-box;margin-bottom: 0.5em;}#sk-container-id-1 div.sk-estimator:hover {background-color: #d4ebff;}#sk-container-id-1 div.sk-parallel-item::after {content: \"\";width: 100%;border-bottom: 1px solid gray;flex-grow: 1;}#sk-container-id-1 div.sk-label:hover label.sk-toggleable__label {background-color: #d4ebff;}#sk-container-id-1 div.sk-serial::before {content: \"\";position: absolute;border-left: 1px solid gray;box-sizing: border-box;top: 0;bottom: 0;left: 50%;z-index: 0;}#sk-container-id-1 div.sk-serial {display: flex;flex-direction: column;align-items: center;background-color: white;padding-right: 0.2em;padding-left: 0.2em;position: relative;}#sk-container-id-1 div.sk-item {position: relative;z-index: 1;}#sk-container-id-1 div.sk-parallel {display: flex;align-items: stretch;justify-content: center;background-color: white;position: relative;}#sk-container-id-1 div.sk-item::before, #sk-container-id-1 div.sk-parallel-item::before {content: \"\";position: absolute;border-left: 1px solid gray;box-sizing: border-box;top: 0;bottom: 0;left: 50%;z-index: -1;}#sk-container-id-1 div.sk-parallel-item {display: flex;flex-direction: column;z-index: 1;position: relative;background-color: white;}#sk-container-id-1 div.sk-parallel-item:first-child::after {align-self: flex-end;width: 50%;}#sk-container-id-1 div.sk-parallel-item:last-child::after {align-self: flex-start;width: 50%;}#sk-container-id-1 div.sk-parallel-item:only-child::after {width: 0;}#sk-container-id-1 div.sk-dashed-wrapped {border: 1px dashed gray;margin: 0 0.4em 0.5em 0.4em;box-sizing: border-box;padding-bottom: 0.4em;background-color: white;}#sk-container-id-1 div.sk-label label {font-family: monospace;font-weight: bold;display: inline-block;line-height: 1.2em;}#sk-container-id-1 div.sk-label-container {text-align: center;}#sk-container-id-1 div.sk-container {/* jupyter's `normalize.less` sets `[hidden] { display: none; }` but bootstrap.min.css set `[hidden] { display: none !important; }` so we also need the `!important` here to be able to override the default hidden behavior on the sphinx rendered scikit-learn.org. See: https://github.com/scikit-learn/scikit-learn/issues/21755 */display: inline-block !important;position: relative;}#sk-container-id-1 div.sk-text-repr-fallback {display: none;}</style><div id=\"sk-container-id-1\" class=\"sk-top-container\"><div class=\"sk-text-repr-fallback\"><pre>MultinomialNB()</pre><b>In a Jupyter environment, please rerun this cell to show the HTML representation or trust the notebook. <br />On GitHub, the HTML representation is unable to render, please try loading this page with nbviewer.org.</b></div><div class=\"sk-container\" hidden><div class=\"sk-item\"><div class=\"sk-estimator sk-toggleable\"><input class=\"sk-toggleable__control sk-hidden--visually\" id=\"sk-estimator-id-1\" type=\"checkbox\" checked><label for=\"sk-estimator-id-1\" class=\"sk-toggleable__label sk-toggleable__label-arrow\">MultinomialNB</label><div class=\"sk-toggleable__content\"><pre>MultinomialNB()</pre></div></div></div></div></div>"
      ],
      "text/plain": [
       "MultinomialNB()"
      ]
     },
     "execution_count": 30,
     "metadata": {},
     "output_type": "execute_result"
    }
   ],
   "source": [
    "nb.fit(X_train, y_train)"
   ]
  },
  {
   "cell_type": "code",
   "execution_count": 31,
   "id": "18d6a7d0",
   "metadata": {
    "execution": {
     "iopub.execute_input": "2024-01-03T19:57:35.270203Z",
     "iopub.status.busy": "2024-01-03T19:57:35.269651Z",
     "iopub.status.idle": "2024-01-03T19:57:35.280192Z",
     "shell.execute_reply": "2024-01-03T19:57:35.278224Z"
    },
    "papermill": {
     "duration": 0.037958,
     "end_time": "2024-01-03T19:57:35.283477",
     "exception": false,
     "start_time": "2024-01-03T19:57:35.245519",
     "status": "completed"
    },
    "tags": []
   },
   "outputs": [],
   "source": [
    "pred = nb.predict(X_test)"
   ]
  },
  {
   "cell_type": "code",
   "execution_count": 32,
   "id": "0319fcf4",
   "metadata": {
    "execution": {
     "iopub.execute_input": "2024-01-03T19:57:35.320527Z",
     "iopub.status.busy": "2024-01-03T19:57:35.319152Z",
     "iopub.status.idle": "2024-01-03T19:57:35.325561Z",
     "shell.execute_reply": "2024-01-03T19:57:35.324364Z"
    },
    "papermill": {
     "duration": 0.026999,
     "end_time": "2024-01-03T19:57:35.328229",
     "exception": false,
     "start_time": "2024-01-03T19:57:35.301230",
     "status": "completed"
    },
    "tags": []
   },
   "outputs": [],
   "source": [
    "from sklearn.metrics import classification_report"
   ]
  },
  {
   "cell_type": "code",
   "execution_count": 33,
   "id": "30844bd3",
   "metadata": {
    "execution": {
     "iopub.execute_input": "2024-01-03T19:57:35.366943Z",
     "iopub.status.busy": "2024-01-03T19:57:35.366435Z",
     "iopub.status.idle": "2024-01-03T19:57:35.395290Z",
     "shell.execute_reply": "2024-01-03T19:57:35.393891Z"
    },
    "papermill": {
     "duration": 0.052361,
     "end_time": "2024-01-03T19:57:35.398859",
     "exception": false,
     "start_time": "2024-01-03T19:57:35.346498",
     "status": "completed"
    },
    "tags": []
   },
   "outputs": [
    {
     "name": "stdout",
     "output_type": "stream",
     "text": [
      "              precision    recall  f1-score   support\n",
      "\n",
      "           1       0.83      0.90      0.86      2140\n",
      "           5       0.96      0.92      0.94      5110\n",
      "\n",
      "    accuracy                           0.92      7250\n",
      "   macro avg       0.89      0.91      0.90      7250\n",
      "weighted avg       0.92      0.92      0.92      7250\n",
      "\n"
     ]
    }
   ],
   "source": [
    "print(classification_report(y_test, pred))"
   ]
  },
  {
   "cell_type": "code",
   "execution_count": 34,
   "id": "499c3470",
   "metadata": {
    "execution": {
     "iopub.execute_input": "2024-01-03T19:57:35.438494Z",
     "iopub.status.busy": "2024-01-03T19:57:35.437174Z",
     "iopub.status.idle": "2024-01-03T19:57:35.442729Z",
     "shell.execute_reply": "2024-01-03T19:57:35.441986Z"
    },
    "papermill": {
     "duration": 0.028368,
     "end_time": "2024-01-03T19:57:35.445337",
     "exception": false,
     "start_time": "2024-01-03T19:57:35.416969",
     "status": "completed"
    },
    "tags": []
   },
   "outputs": [],
   "source": [
    "from sklearn.feature_extraction.text import  TfidfTransformer"
   ]
  },
  {
   "cell_type": "code",
   "execution_count": 35,
   "id": "30230973",
   "metadata": {
    "execution": {
     "iopub.execute_input": "2024-01-03T19:57:35.483864Z",
     "iopub.status.busy": "2024-01-03T19:57:35.483205Z",
     "iopub.status.idle": "2024-01-03T19:57:35.491215Z",
     "shell.execute_reply": "2024-01-03T19:57:35.489901Z"
    },
    "papermill": {
     "duration": 0.030406,
     "end_time": "2024-01-03T19:57:35.494103",
     "exception": false,
     "start_time": "2024-01-03T19:57:35.463697",
     "status": "completed"
    },
    "tags": []
   },
   "outputs": [],
   "source": [
    "from sklearn.pipeline import Pipeline"
   ]
  },
  {
   "cell_type": "code",
   "execution_count": 36,
   "id": "8725d2e7",
   "metadata": {
    "execution": {
     "iopub.execute_input": "2024-01-03T19:57:35.533276Z",
     "iopub.status.busy": "2024-01-03T19:57:35.532673Z",
     "iopub.status.idle": "2024-01-03T19:57:35.539092Z",
     "shell.execute_reply": "2024-01-03T19:57:35.537424Z"
    },
    "papermill": {
     "duration": 0.029401,
     "end_time": "2024-01-03T19:57:35.541779",
     "exception": false,
     "start_time": "2024-01-03T19:57:35.512378",
     "status": "completed"
    },
    "tags": []
   },
   "outputs": [],
   "source": [
    "pipeline = Pipeline([\n",
    "    ('bow', CountVectorizer()),  # strings to token integer counts\n",
    "    ('tfidf', TfidfTransformer()),  # integer counts to weighted TF-IDF scores\n",
    "    ('classifier', MultinomialNB()),  # train on TF-IDF vectors w/ Naive Bayes classifier\n",
    "])"
   ]
  },
  {
   "cell_type": "code",
   "execution_count": 37,
   "id": "62d11c25",
   "metadata": {
    "execution": {
     "iopub.execute_input": "2024-01-03T19:57:35.578413Z",
     "iopub.status.busy": "2024-01-03T19:57:35.578032Z",
     "iopub.status.idle": "2024-01-03T19:57:35.589121Z",
     "shell.execute_reply": "2024-01-03T19:57:35.587884Z"
    },
    "papermill": {
     "duration": 0.031881,
     "end_time": "2024-01-03T19:57:35.591550",
     "exception": false,
     "start_time": "2024-01-03T19:57:35.559669",
     "status": "completed"
    },
    "tags": []
   },
   "outputs": [],
   "source": [
    "X=data_new['nopunc']\n",
    "y=data_new['score']\n",
    "X_train, X_test, y_train, y_test = train_test_split(X, y,test_size=0.3,random_state=101)"
   ]
  },
  {
   "cell_type": "code",
   "execution_count": 38,
   "id": "f7f2f136",
   "metadata": {
    "execution": {
     "iopub.execute_input": "2024-01-03T19:57:35.628050Z",
     "iopub.status.busy": "2024-01-03T19:57:35.627520Z",
     "iopub.status.idle": "2024-01-03T19:57:36.083162Z",
     "shell.execute_reply": "2024-01-03T19:57:36.082148Z"
    },
    "papermill": {
     "duration": 0.476663,
     "end_time": "2024-01-03T19:57:36.085466",
     "exception": false,
     "start_time": "2024-01-03T19:57:35.608803",
     "status": "completed"
    },
    "tags": []
   },
   "outputs": [
    {
     "data": {
      "text/html": [
       "<style>#sk-container-id-2 {color: black;background-color: white;}#sk-container-id-2 pre{padding: 0;}#sk-container-id-2 div.sk-toggleable {background-color: white;}#sk-container-id-2 label.sk-toggleable__label {cursor: pointer;display: block;width: 100%;margin-bottom: 0;padding: 0.3em;box-sizing: border-box;text-align: center;}#sk-container-id-2 label.sk-toggleable__label-arrow:before {content: \"▸\";float: left;margin-right: 0.25em;color: #696969;}#sk-container-id-2 label.sk-toggleable__label-arrow:hover:before {color: black;}#sk-container-id-2 div.sk-estimator:hover label.sk-toggleable__label-arrow:before {color: black;}#sk-container-id-2 div.sk-toggleable__content {max-height: 0;max-width: 0;overflow: hidden;text-align: left;background-color: #f0f8ff;}#sk-container-id-2 div.sk-toggleable__content pre {margin: 0.2em;color: black;border-radius: 0.25em;background-color: #f0f8ff;}#sk-container-id-2 input.sk-toggleable__control:checked~div.sk-toggleable__content {max-height: 200px;max-width: 100%;overflow: auto;}#sk-container-id-2 input.sk-toggleable__control:checked~label.sk-toggleable__label-arrow:before {content: \"▾\";}#sk-container-id-2 div.sk-estimator input.sk-toggleable__control:checked~label.sk-toggleable__label {background-color: #d4ebff;}#sk-container-id-2 div.sk-label input.sk-toggleable__control:checked~label.sk-toggleable__label {background-color: #d4ebff;}#sk-container-id-2 input.sk-hidden--visually {border: 0;clip: rect(1px 1px 1px 1px);clip: rect(1px, 1px, 1px, 1px);height: 1px;margin: -1px;overflow: hidden;padding: 0;position: absolute;width: 1px;}#sk-container-id-2 div.sk-estimator {font-family: monospace;background-color: #f0f8ff;border: 1px dotted black;border-radius: 0.25em;box-sizing: border-box;margin-bottom: 0.5em;}#sk-container-id-2 div.sk-estimator:hover {background-color: #d4ebff;}#sk-container-id-2 div.sk-parallel-item::after {content: \"\";width: 100%;border-bottom: 1px solid gray;flex-grow: 1;}#sk-container-id-2 div.sk-label:hover label.sk-toggleable__label {background-color: #d4ebff;}#sk-container-id-2 div.sk-serial::before {content: \"\";position: absolute;border-left: 1px solid gray;box-sizing: border-box;top: 0;bottom: 0;left: 50%;z-index: 0;}#sk-container-id-2 div.sk-serial {display: flex;flex-direction: column;align-items: center;background-color: white;padding-right: 0.2em;padding-left: 0.2em;position: relative;}#sk-container-id-2 div.sk-item {position: relative;z-index: 1;}#sk-container-id-2 div.sk-parallel {display: flex;align-items: stretch;justify-content: center;background-color: white;position: relative;}#sk-container-id-2 div.sk-item::before, #sk-container-id-2 div.sk-parallel-item::before {content: \"\";position: absolute;border-left: 1px solid gray;box-sizing: border-box;top: 0;bottom: 0;left: 50%;z-index: -1;}#sk-container-id-2 div.sk-parallel-item {display: flex;flex-direction: column;z-index: 1;position: relative;background-color: white;}#sk-container-id-2 div.sk-parallel-item:first-child::after {align-self: flex-end;width: 50%;}#sk-container-id-2 div.sk-parallel-item:last-child::after {align-self: flex-start;width: 50%;}#sk-container-id-2 div.sk-parallel-item:only-child::after {width: 0;}#sk-container-id-2 div.sk-dashed-wrapped {border: 1px dashed gray;margin: 0 0.4em 0.5em 0.4em;box-sizing: border-box;padding-bottom: 0.4em;background-color: white;}#sk-container-id-2 div.sk-label label {font-family: monospace;font-weight: bold;display: inline-block;line-height: 1.2em;}#sk-container-id-2 div.sk-label-container {text-align: center;}#sk-container-id-2 div.sk-container {/* jupyter's `normalize.less` sets `[hidden] { display: none; }` but bootstrap.min.css set `[hidden] { display: none !important; }` so we also need the `!important` here to be able to override the default hidden behavior on the sphinx rendered scikit-learn.org. See: https://github.com/scikit-learn/scikit-learn/issues/21755 */display: inline-block !important;position: relative;}#sk-container-id-2 div.sk-text-repr-fallback {display: none;}</style><div id=\"sk-container-id-2\" class=\"sk-top-container\"><div class=\"sk-text-repr-fallback\"><pre>Pipeline(steps=[(&#x27;bow&#x27;, CountVectorizer()), (&#x27;tfidf&#x27;, TfidfTransformer()),\n",
       "                (&#x27;classifier&#x27;, MultinomialNB())])</pre><b>In a Jupyter environment, please rerun this cell to show the HTML representation or trust the notebook. <br />On GitHub, the HTML representation is unable to render, please try loading this page with nbviewer.org.</b></div><div class=\"sk-container\" hidden><div class=\"sk-item sk-dashed-wrapped\"><div class=\"sk-label-container\"><div class=\"sk-label sk-toggleable\"><input class=\"sk-toggleable__control sk-hidden--visually\" id=\"sk-estimator-id-2\" type=\"checkbox\" ><label for=\"sk-estimator-id-2\" class=\"sk-toggleable__label sk-toggleable__label-arrow\">Pipeline</label><div class=\"sk-toggleable__content\"><pre>Pipeline(steps=[(&#x27;bow&#x27;, CountVectorizer()), (&#x27;tfidf&#x27;, TfidfTransformer()),\n",
       "                (&#x27;classifier&#x27;, MultinomialNB())])</pre></div></div></div><div class=\"sk-serial\"><div class=\"sk-item\"><div class=\"sk-estimator sk-toggleable\"><input class=\"sk-toggleable__control sk-hidden--visually\" id=\"sk-estimator-id-3\" type=\"checkbox\" ><label for=\"sk-estimator-id-3\" class=\"sk-toggleable__label sk-toggleable__label-arrow\">CountVectorizer</label><div class=\"sk-toggleable__content\"><pre>CountVectorizer()</pre></div></div></div><div class=\"sk-item\"><div class=\"sk-estimator sk-toggleable\"><input class=\"sk-toggleable__control sk-hidden--visually\" id=\"sk-estimator-id-4\" type=\"checkbox\" ><label for=\"sk-estimator-id-4\" class=\"sk-toggleable__label sk-toggleable__label-arrow\">TfidfTransformer</label><div class=\"sk-toggleable__content\"><pre>TfidfTransformer()</pre></div></div></div><div class=\"sk-item\"><div class=\"sk-estimator sk-toggleable\"><input class=\"sk-toggleable__control sk-hidden--visually\" id=\"sk-estimator-id-5\" type=\"checkbox\" ><label for=\"sk-estimator-id-5\" class=\"sk-toggleable__label sk-toggleable__label-arrow\">MultinomialNB</label><div class=\"sk-toggleable__content\"><pre>MultinomialNB()</pre></div></div></div></div></div></div></div>"
      ],
      "text/plain": [
       "Pipeline(steps=[('bow', CountVectorizer()), ('tfidf', TfidfTransformer()),\n",
       "                ('classifier', MultinomialNB())])"
      ]
     },
     "execution_count": 38,
     "metadata": {},
     "output_type": "execute_result"
    }
   ],
   "source": [
    "pipeline.fit(X_train,y_train)"
   ]
  },
  {
   "cell_type": "code",
   "execution_count": 39,
   "id": "3dea41d9",
   "metadata": {
    "execution": {
     "iopub.execute_input": "2024-01-03T19:57:36.122137Z",
     "iopub.status.busy": "2024-01-03T19:57:36.121249Z",
     "iopub.status.idle": "2024-01-03T19:57:36.297353Z",
     "shell.execute_reply": "2024-01-03T19:57:36.295974Z"
    },
    "papermill": {
     "duration": 0.197625,
     "end_time": "2024-01-03T19:57:36.300075",
     "exception": false,
     "start_time": "2024-01-03T19:57:36.102450",
     "status": "completed"
    },
    "tags": []
   },
   "outputs": [],
   "source": [
    "y_pred = pipeline.predict(X_test)"
   ]
  },
  {
   "cell_type": "code",
   "execution_count": 40,
   "id": "ffcc6b2e",
   "metadata": {
    "execution": {
     "iopub.execute_input": "2024-01-03T19:57:36.337034Z",
     "iopub.status.busy": "2024-01-03T19:57:36.336453Z",
     "iopub.status.idle": "2024-01-03T19:57:36.368459Z",
     "shell.execute_reply": "2024-01-03T19:57:36.366377Z"
    },
    "papermill": {
     "duration": 0.053823,
     "end_time": "2024-01-03T19:57:36.371213",
     "exception": false,
     "start_time": "2024-01-03T19:57:36.317390",
     "status": "completed"
    },
    "tags": []
   },
   "outputs": [
    {
     "name": "stdout",
     "output_type": "stream",
     "text": [
      "              precision    recall  f1-score   support\n",
      "\n",
      "           1       0.87      0.83      0.85      2140\n",
      "           5       0.93      0.95      0.94      5110\n",
      "\n",
      "    accuracy                           0.91      7250\n",
      "   macro avg       0.90      0.89      0.89      7250\n",
      "weighted avg       0.91      0.91      0.91      7250\n",
      "\n"
     ]
    }
   ],
   "source": [
    "print(classification_report(y_test,y_pred))"
   ]
  },
  {
   "cell_type": "code",
   "execution_count": null,
   "id": "7aec3631",
   "metadata": {
    "papermill": {
     "duration": 0.017121,
     "end_time": "2024-01-03T19:57:36.405783",
     "exception": false,
     "start_time": "2024-01-03T19:57:36.388662",
     "status": "completed"
    },
    "tags": []
   },
   "outputs": [],
   "source": []
  }
 ],
 "metadata": {
  "kaggle": {
   "accelerator": "none",
   "dataSources": [
    {
     "datasetId": 1754040,
     "sourceId": 2864509,
     "sourceType": "datasetVersion"
    }
   ],
   "dockerImageVersionId": 30626,
   "isGpuEnabled": false,
   "isInternetEnabled": true,
   "language": "python",
   "sourceType": "notebook"
  },
  "kernelspec": {
   "display_name": "Python 3",
   "language": "python",
   "name": "python3"
  },
  "language_info": {
   "codemirror_mode": {
    "name": "ipython",
    "version": 3
   },
   "file_extension": ".py",
   "mimetype": "text/x-python",
   "name": "python",
   "nbconvert_exporter": "python",
   "pygments_lexer": "ipython3",
   "version": "3.10.12"
  },
  "papermill": {
   "default_parameters": {},
   "duration": 11.927193,
   "end_time": "2024-01-03T19:57:37.146978",
   "environment_variables": {},
   "exception": null,
   "input_path": "__notebook__.ipynb",
   "output_path": "__notebook__.ipynb",
   "parameters": {},
   "start_time": "2024-01-03T19:57:25.219785",
   "version": "2.4.0"
  }
 },
 "nbformat": 4,
 "nbformat_minor": 5
}
